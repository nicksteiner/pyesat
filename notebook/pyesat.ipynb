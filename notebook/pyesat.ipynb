{
 "cells": [
  {
   "cell_type": "code",
   "execution_count": 1,
   "outputs": [
    {
     "name": "stdout",
     "output_type": "stream",
     "text": [
      "Collecting git+https://github.com/nicksteiner/pyesat.git\n",
      "  Cloning https://github.com/nicksteiner/pyesat.git to c:\\users\\nicks.desktop-vi7l5c7\\appdata\\local\\temp\\pip-req-build-v7wtjoqu\n",
      "  Resolved https://github.com/nicksteiner/pyesat.git to commit 9c2db8ed724753aa69b5a8a3772773bd6661d69f\n"
     ]
    },
    {
     "name": "stderr",
     "output_type": "stream",
     "text": [
      "The system cannot find the path specified.\n",
      "  Running command git clone --filter=blob:none --quiet https://github.com/nicksteiner/pyesat.git 'C:\\Users\\nicks.DESKTOP-VI7L5C7\\AppData\\Local\\Temp\\pip-req-build-v7wtjoqu'\n",
      "ERROR: git+https://github.com/nicksteiner/pyesat.git does not appear to be a Python project: neither 'setup.py' nor 'pyproject.toml' found.\n"
     ]
    }
   ],
   "source": [
    "!pip install git+https://github.com/nicksteiner/pyesat.git"
   ],
   "metadata": {
    "collapsed": false,
    "pycharm": {
     "name": "#%%\n"
    }
   }
  },
  {
   "cell_type": "code",
   "execution_count": null,
   "outputs": [],
   "source": [],
   "metadata": {
    "collapsed": false,
    "pycharm": {
     "name": "#%%\n"
    }
   }
  }
 ],
 "metadata": {
  "kernelspec": {
   "display_name": "Python 3",
   "language": "python",
   "name": "python3"
  },
  "language_info": {
   "codemirror_mode": {
    "name": "ipython",
    "version": 2
   },
   "file_extension": ".py",
   "mimetype": "text/x-python",
   "name": "python",
   "nbconvert_exporter": "python",
   "pygments_lexer": "ipython2",
   "version": "2.7.6"
  }
 },
 "nbformat": 4,
 "nbformat_minor": 0
}